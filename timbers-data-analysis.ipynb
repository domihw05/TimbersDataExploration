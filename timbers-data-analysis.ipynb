{
 "cells": [
  {
   "cell_type": "code",
   "execution_count": 1,
   "id": "5a9cb401",
   "metadata": {
    "_cell_guid": "b1076dfc-b9ad-4769-8c92-a6c4dae69d19",
    "_uuid": "8f2839f25d086af736a60e9eeb907d3b93b6e0e5",
    "execution": {
     "iopub.execute_input": "2025-02-06T01:56:33.056774Z",
     "iopub.status.busy": "2025-02-06T01:56:33.056263Z",
     "iopub.status.idle": "2025-02-06T01:56:34.087655Z",
     "shell.execute_reply": "2025-02-06T01:56:34.086385Z"
    },
    "papermill": {
     "duration": 1.038101,
     "end_time": "2025-02-06T01:56:34.090084",
     "exception": false,
     "start_time": "2025-02-06T01:56:33.051983",
     "status": "completed"
    },
    "tags": []
   },
   "outputs": [],
   "source": [
    "# This Python 3 environment comes with many helpful analytics libraries installed\n",
    "# It is defined by the kaggle/python Docker image: https://github.com/kaggle/docker-python\n",
    "# For example, here's several helpful packages to load\n",
    "\n",
    "import numpy as np # linear algebra\n",
    "import pandas as pd # data processing, CSV file I/O (e.g. pd.read_csv)\n",
    "import matplotlib.pyplot as plt\n",
    "\n",
    "# Input data files are available in the read-only \"../input/\" directory\n",
    "# For example, running this (by clicking run or pressing Shift+Enter) will list all files under the input directory\n",
    "\n",
    "#import os\n",
    "#for dirname, _, filenames in os.walk('/kaggle/input'):\n",
    "#    for filename in filenames:\n",
    "#        print(os.path.join(dirname, filename))\n",
    "\n",
    "# You can write up to 20GB to the current directory (/kaggle/working/) that gets preserved as output when you create a version using \"Save & Run All\" \n",
    "# You can also write temporary files to /kaggle/temp/, but they won't be saved outside of the current session"
   ]
  },
  {
   "cell_type": "code",
   "execution_count": 2,
   "id": "f1c75498",
   "metadata": {
    "execution": {
     "iopub.execute_input": "2025-02-06T01:56:34.096884Z",
     "iopub.status.busy": "2025-02-06T01:56:34.096310Z",
     "iopub.status.idle": "2025-02-06T01:56:42.670598Z",
     "shell.execute_reply": "2025-02-06T01:56:42.669012Z"
    },
    "papermill": {
     "duration": 8.57975,
     "end_time": "2025-02-06T01:56:42.672858",
     "exception": false,
     "start_time": "2025-02-06T01:56:34.093108",
     "status": "completed"
    },
    "tags": []
   },
   "outputs": [
    {
     "name": "stderr",
     "output_type": "stream",
     "text": [
      "<ipython-input-2-19e6963f828e>:1: DtypeWarning: Columns (24,28) have mixed types. Specify dtype option on import or set low_memory=False.\n",
      "  mls_df = pd.read_csv(\"/kaggle/input/football-match-statistics-and-more/fixture_stats_clean.csv\")\n"
     ]
    },
    {
     "name": "stdout",
     "output_type": "stream",
     "text": [
      "          teams_home_name   teams_away_name  league_season\n",
      "228   Vancouver Whitecaps  Portland Timbers           2024\n",
      "290        St. Louis City  Portland Timbers           2024\n",
      "420    Philadelphia Union  Portland Timbers           2013\n",
      "447            Toronto FC  Portland Timbers           2012\n",
      "1330         Nashville SC  Portland Timbers           2022\n",
      "        teams_home_name      teams_away_name  league_season\n",
      "44474   Orlando City SC     Portland Timbers           2016\n",
      "46909  Portland Timbers       Real Salt Lake           2019\n",
      "46911  Portland Timbers  Vancouver Whitecaps           2019\n",
      "48122  Portland Timbers      Orlando City SC           2020\n",
      "48130  Portland Timbers       Houston Dynamo           2020\n"
     ]
    },
    {
     "data": {
      "text/plain": [
       "Index(['fixture_id', 'fixture_date', 'fixture_timezone', 'fixture_timestamp',\n",
       "       'fixture_periods_first', 'fixture_periods_second', 'fixture_referee',\n",
       "       'fixture_venue_id', 'fixture_venue_name', 'fixture_venue_city',\n",
       "       'fixture_status_long', 'fixture_status_short', 'fixture_status_elapsed',\n",
       "       'fixture_status_extra', 'league_id', 'league_name', 'league_country',\n",
       "       'league_logo', 'league_flag', 'league_season', 'league_round',\n",
       "       'teams_home_id', 'teams_home_name', 'teams_home_logo',\n",
       "       'teams_home_winner', 'teams_away_id', 'teams_away_name',\n",
       "       'teams_away_logo', 'teams_away_winner', 'goals_home', 'goals_away',\n",
       "       'score_halftime_home', 'score_halftime_away', 'score_fulltime_home',\n",
       "       'score_fulltime_away', 'score_extratime_home', 'score_extratime_away',\n",
       "       'score_penalty_home', 'score_penalty_away'],\n",
       "      dtype='object')"
      ]
     },
     "execution_count": 2,
     "metadata": {},
     "output_type": "execute_result"
    }
   ],
   "source": [
    "mls_df = pd.read_csv(\"/kaggle/input/football-match-statistics-and-more/fixture_stats_clean.csv\")\n",
    "ptfc_player = pd.read_csv(\"/kaggle/input/football-match-statistics-and-more/fixture_stats_players_clean.csv\")\n",
    "mls_df = mls_df[mls_df['league_name'] == 'Major League Soccer']\n",
    "ptfc_player = ptfc_player[ptfc_player['team_name'] == 'Portland Timbers']\n",
    "mls_df.shape # 5226 games, 39 columns\n",
    "ptfc_player.shape\n",
    "\n",
    "\n",
    "# Extract only Timbers games from the data\n",
    "timbers_home = mls_df[\"teams_home_name\"] == \"Portland Timbers\"\n",
    "timbers_away = mls_df[\"teams_away_name\"] == \"Portland Timbers\"\n",
    "timbers_any = timbers_home | timbers_away\n",
    "timbersdf = mls_df[timbers_any]\n",
    "print(timbersdf[['teams_home_name','teams_away_name','league_season']].head(5)) # display matchups\n",
    "print(timbersdf[['teams_home_name','teams_away_name','league_season']].tail(5)) # display matchups\n",
    "timbersdf.shape # 455 games, 39 data columns\n",
    "timbersdf.columns"
   ]
  },
  {
   "cell_type": "code",
   "execution_count": 3,
   "id": "52e33529",
   "metadata": {
    "execution": {
     "iopub.execute_input": "2025-02-06T01:56:42.679548Z",
     "iopub.status.busy": "2025-02-06T01:56:42.679188Z",
     "iopub.status.idle": "2025-02-06T01:56:42.701231Z",
     "shell.execute_reply": "2025-02-06T01:56:42.699825Z"
    },
    "papermill": {
     "duration": 0.02772,
     "end_time": "2025-02-06T01:56:42.703365",
     "exception": false,
     "start_time": "2025-02-06T01:56:42.675645",
     "status": "completed"
    },
    "tags": []
   },
   "outputs": [
    {
     "name": "stderr",
     "output_type": "stream",
     "text": [
      "<ipython-input-3-66c2cb889e4e>:1: SettingWithCopyWarning: \n",
      "A value is trying to be set on a copy of a slice from a DataFrame.\n",
      "Try using .loc[row_indexer,col_indexer] = value instead\n",
      "\n",
      "See the caveats in the documentation: https://pandas.pydata.org/pandas-docs/stable/user_guide/indexing.html#returning-a-view-versus-a-copy\n",
      "  timbersdf['timbers_win'] = timbersdf['teams_home_winner']\n",
      "<ipython-input-3-66c2cb889e4e>:2: SettingWithCopyWarning: \n",
      "A value is trying to be set on a copy of a slice from a DataFrame.\n",
      "Try using .loc[row_indexer,col_indexer] = value instead\n",
      "\n",
      "See the caveats in the documentation: https://pandas.pydata.org/pandas-docs/stable/user_guide/indexing.html#returning-a-view-versus-a-copy\n",
      "  timbersdf['timbers_win'] = timbersdf['teams_home_winner'].where(\n",
      "<ipython-input-3-66c2cb889e4e>:6: SettingWithCopyWarning: \n",
      "A value is trying to be set on a copy of a slice from a DataFrame.\n",
      "Try using .loc[row_indexer,col_indexer] = value instead\n",
      "\n",
      "See the caveats in the documentation: https://pandas.pydata.org/pandas-docs/stable/user_guide/indexing.html#returning-a-view-versus-a-copy\n",
      "  timbersdf['timbers_win'] = timbersdf['timbers_win'].fillna(0)\n",
      "<ipython-input-3-66c2cb889e4e>:7: SettingWithCopyWarning: \n",
      "A value is trying to be set on a copy of a slice from a DataFrame.\n",
      "Try using .loc[row_indexer,col_indexer] = value instead\n",
      "\n",
      "See the caveats in the documentation: https://pandas.pydata.org/pandas-docs/stable/user_guide/indexing.html#returning-a-view-versus-a-copy\n",
      "  timbersdf['timbers_win'] = timbersdf['timbers_win'].astype(int)\n"
     ]
    }
   ],
   "source": [
    "timbersdf['timbers_win'] = timbersdf['teams_home_winner']\n",
    "timbersdf['timbers_win'] = timbersdf['teams_home_winner'].where(\n",
    "    timbersdf['teams_away_name'] != \"Portland Timbers\",  # Keep home win unless Timbers was away\n",
    "    timbersdf['teams_away_winner']  # Replace with away win when Timbers was away\n",
    ")\n",
    "timbersdf['timbers_win'] = timbersdf['timbers_win'].fillna(0)\n",
    "timbersdf['timbers_win'] = timbersdf['timbers_win'].astype(int)\n",
    "\n",
    "ptfc_byseason = timbersdf.groupby('league_season', as_index=True).sum() # League season is now index (row) identifier\n"
   ]
  },
  {
   "cell_type": "code",
   "execution_count": 4,
   "id": "30037b2c",
   "metadata": {
    "execution": {
     "iopub.execute_input": "2025-02-06T01:56:42.710371Z",
     "iopub.status.busy": "2025-02-06T01:56:42.710034Z",
     "iopub.status.idle": "2025-02-06T01:56:43.086851Z",
     "shell.execute_reply": "2025-02-06T01:56:43.085400Z"
    },
    "papermill": {
     "duration": 0.382584,
     "end_time": "2025-02-06T01:56:43.088921",
     "exception": false,
     "start_time": "2025-02-06T01:56:42.706337",
     "status": "completed"
    },
    "tags": []
   },
   "outputs": [
    {
     "name": "stderr",
     "output_type": "stream",
     "text": [
      "<ipython-input-4-bbb288551ae0>:13: UserWarning: FixedFormatter should only be used together with FixedLocator\n",
      "  ax.set_xticklabels(season, rotation=90, ha=\"center\")\n"
     ]
    },
    {
     "data": {
      "image/png": "[encoded data removed]",
      "text/plain": [
       "<Figure size 640x480 with 1 Axes>"
      ]
     },
     "metadata": {},
     "output_type": "display_data"
    },
    {
     "name": "stdout",
     "output_type": "stream",
     "text": [
      "Index(['fixture_id', 'team_id', 'team_name', 'team_logo', 'update',\n",
      "       'player_id', 'player_name', 'position', 'game_minutes', 'game_number',\n",
      "       'rating', 'captain', 'substitute', 'shots_total', 'shots_on',\n",
      "       'goals_total', 'goals_conceded', 'assists', 'saves', 'total_passes',\n",
      "       'completed_passes', 'pass_percentage', 'key_passes', 'total_tackles',\n",
      "       'blocks_tackles', 'interceptions_tackles', 'duels_total', 'duels_won',\n",
      "       'dribbles_attempts', 'dribbles_success', 'dribbles_past', 'fouls_drawn',\n",
      "       'fouls_committed', 'yellow_cards', 'red_cards', 'penalty_won',\n",
      "       'penalty_committed', 'penalty_scored', 'penalty_missed',\n",
      "       'penalty_saved'],\n",
      "      dtype='object')\n"
     ]
    },
    {
     "data": {
      "text/html": [
       "<div>\n",
       "<style scoped>\n",
       "    .dataframe tbody tr th:only-of-type {\n",
       "        vertical-align: middle;\n",
       "    }\n",
       "\n",
       "    .dataframe tbody tr th {\n",
       "        vertical-align: top;\n",
       "    }\n",
       "\n",
       "    .dataframe thead th {\n",
       "        text-align: right;\n",
       "    }\n",
       "</style>\n",
       "<table border=\"1\" class=\"dataframe\">\n",
       "  <thead>\n",
       "    <tr style=\"text-align: right;\">\n",
       "      <th></th>\n",
       "      <th>goals_total</th>\n",
       "    </tr>\n",
       "    <tr>\n",
       "      <th>player_name</th>\n",
       "      <th></th>\n",
       "    </tr>\n",
       "  </thead>\n",
       "  <tbody>\n",
       "    <tr>\n",
       "      <th>Diego Valeri</th>\n",
       "      <td>71</td>\n",
       "    </tr>\n",
       "    <tr>\n",
       "      <th>Fanendo Adi</th>\n",
       "      <td>45</td>\n",
       "    </tr>\n",
       "    <tr>\n",
       "      <th>Felipe Mora</th>\n",
       "      <td>40</td>\n",
       "    </tr>\n",
       "    <tr>\n",
       "      <th>Dairon Asprilla</th>\n",
       "      <td>35</td>\n",
       "    </tr>\n",
       "    <tr>\n",
       "      <th>Sebastian Blanco</th>\n",
       "      <td>29</td>\n",
       "    </tr>\n",
       "    <tr>\n",
       "      <th>Jeremy Ebobisse</th>\n",
       "      <td>28</td>\n",
       "    </tr>\n",
       "    <tr>\n",
       "      <th>Evander</th>\n",
       "      <td>24</td>\n",
       "    </tr>\n",
       "    <tr>\n",
       "      <th>Jarosław Niezgoda</th>\n",
       "      <td>20</td>\n",
       "    </tr>\n",
       "    <tr>\n",
       "      <th>Sebastián Blanco</th>\n",
       "      <td>18</td>\n",
       "    </tr>\n",
       "    <tr>\n",
       "      <th>Santiago Moreno</th>\n",
       "      <td>17</td>\n",
       "    </tr>\n",
       "  </tbody>\n",
       "</table>\n",
       "</div>"
      ],
      "text/plain": [
       "                   goals_total\n",
       "player_name                   \n",
       "Diego Valeri                71\n",
       "Fanendo Adi                 45\n",
       "Felipe Mora                 40\n",
       "Dairon Asprilla             35\n",
       "Sebastian Blanco            29\n",
       "Jeremy Ebobisse             28\n",
       "Evander                     24\n",
       "Jarosław Niezgoda           20\n",
       "Sebastián Blanco            18\n",
       "Santiago Moreno             17"
      ]
     },
     "execution_count": 4,
     "metadata": {},
     "output_type": "execute_result"
    }
   ],
   "source": [
    "width = 0.6  # the width of the bars: can also be len(x) sequence\n",
    "\n",
    "\n",
    "fig, ax = plt.subplots()\n",
    "\n",
    "season = ptfc_byseason.index.astype(int).astype(str)\n",
    "# Convert the league season to strings properly\n",
    "bar_container = ax.bar(season, ptfc_byseason['timbers_win'])\n",
    "\n",
    "# Set axis labels and title\n",
    "ax.set(ylabel='Number of Wins', title='PTFC Wins by Season', ylim=(0, 25))\n",
    "\n",
    "ax.set_xticklabels(season, rotation=90, ha=\"center\")\n",
    "\n",
    "# Add bar labels\n",
    "ax.bar_label(bar_container)\n",
    "\n",
    "# Show plot\n",
    "plt.show()\n",
    "\n",
    "\n",
    "#ptfc_player = ptfc_player.groupby(\"player_name\").sum(numeric_only = True)\n",
    "print(ptfc_player.columns)\n",
    "ptfc_player = ptfc_player.groupby(\"player_name\").sum(numeric_only = True)\n",
    "ptfc_player[['goals_total']].sort_values('goals_total',ascending=False).head(10)"
   ]
  }
 ],
 "metadata": {
  "kaggle": {
   "accelerator": "none",
   "dataSources": [
    {
     "datasetId": 6318973,
     "sourceId": 10222081,
     "sourceType": "datasetVersion"
    }
   ],
   "dockerImageVersionId": 30839,
   "isGpuEnabled": false,
   "isInternetEnabled": true,
   "language": "python",
   "sourceType": "notebook"
  },
  "kernelspec": {
   "display_name": "Python 3",
   "language": "python",
   "name": "python3"
  },
  "language_info": {
   "codemirror_mode": {
    "name": "ipython",
    "version": 3
   },
   "file_extension": ".py",
   "mimetype": "text/x-python",
   "name": "python",
   "nbconvert_exporter": "python",
   "pygments_lexer": "ipython3",
   "version": "3.10.12"
  },
  "papermill": {
   "default_parameters": {},
   "duration": 13.589704,
   "end_time": "2025-02-06T01:56:43.713547",
   "environment_variables": {},
   "exception": null,
   "input_path": "__notebook__.ipynb",
   "output_path": "__notebook__.ipynb",
   "parameters": {},
   "start_time": "2025-02-06T01:56:30.123843",
   "version": "2.6.0"
  }
 },
 "nbformat": 4,
 "nbformat_minor": 5
}
